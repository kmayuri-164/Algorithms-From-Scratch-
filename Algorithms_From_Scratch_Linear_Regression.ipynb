{
 "cells": [
  {
   "cell_type": "code",
   "execution_count": 1,
   "metadata": {},
   "outputs": [],
   "source": [
    "import numpy as np \n",
    "import matplotlib.pyplot as plt \n",
    "from sklearn.datasets import make_regression \n",
    "from sklearn.linear_model import LinearRegression \n",
    "from sklearn.model_selection import train_test_split \n",
    "from sklearn.metrics import mean_squared_error"
   ]
  },
  {
   "cell_type": "code",
   "execution_count": 5,
   "metadata": {},
   "outputs": [],
   "source": [
    "#creating dataset\n",
    "X,Y=make_regression(n_samples=100,n_features=1,n_targets=1,noise=20,random_state=24)\n",
    "\n",
    "#splitting dataset into X_train,y_train \n",
    "X_train,X_test,Y_train,Y_test=train_test_split(X,Y,train_size=0.75,random_state=24)"
   ]
  },
  {
   "cell_type": "code",
   "execution_count": 6,
   "metadata": {},
   "outputs": [
    {
     "data": {
      "image/png": "[encoded data removed]",
      "text/plain": [
       "<Figure size 432x288 with 1 Axes>"
      ]
     },
     "metadata": {
      "needs_background": "light"
     },
     "output_type": "display_data"
    }
   ],
   "source": [
    "#visualise\n",
    "plt.scatter(X,Y)\n",
    "plt.show()"
   ]
  },
  {
   "cell_type": "code",
   "execution_count": 19,
   "metadata": {},
   "outputs": [],
   "source": [
    "def parm_init(X):\n",
    "    \"\"\"\n",
    "    input x: traninig data\n",
    "    output : dictionary contaning coeeficinet \"\"\"\n",
    "    \n",
    "    parmas={} #initialze dictioanry\n",
    "    _,n_features=X.shape   #shape of trnaing data\n",
    "    \n",
    "    #initialising coee to zero\n",
    "    parmas[\"W\"]=np.zeros(n_features)\n",
    "    parmas[\"b\"]=0\n",
    "    \n",
    "    return parmas"
   ]
  },
  {
   "cell_type": "code",
   "execution_count": 20,
   "metadata": {},
   "outputs": [],
   "source": [
    "def gradient_descent(X,y,parmas,alpha,n_iter):\n",
    "    \"\"\"\n",
    "    X:traning data\n",
    "    y : labels\n",
    "    parmas: dictionary conataning random coeeficient\n",
    "    alpha : model learning rate\n",
    "    -----------------------------------------\n",
    "    output : dictinary conataning optimized coeeficient \"\"\"\n",
    "    \n",
    "    W=parmas[\"W\"]\n",
    "    b=parmas[\"b\"]\n",
    "    m=X.shape[0]   #number of traning instancesc\n",
    "    \n",
    "    for _ in range(n_iter):\n",
    "        #prediction with ramdom weight\n",
    "        y_pred=np.dot(X,W) + b\n",
    "        #taking the partial derivative of coeeficient\n",
    "        dW=(2/m)* np.dot(X.T,(y_pred-y))\n",
    "        db=(2/m)*np.sum(y_pred-y)\n",
    "        #update the coeeficient\n",
    "        W-=alpha*dW\n",
    "        b-=alpha*db\n",
    "        \n",
    "    parmas[\"W\"]=W\n",
    "    parmas[\"b\"]=b\n",
    "    return parmas"
   ]
  },
  {
   "cell_type": "code",
   "execution_count": 21,
   "metadata": {},
   "outputs": [],
   "source": [
    "def train(X,y,alpha=0.01,n_iter=1000):\n",
    "    \"\"\"\n",
    "    train the linear regression model with gradient descemt\n",
    "    X: training data\n",
    "    y: labels\n",
    "    alpha: model learning rate\n",
    "    n_iter : number of iterations\n",
    "    ---------------------------------------------------------------\n",
    "    output : dictionary contaning optimized coeeficinent\n",
    "    \n",
    "    \"\"\"\n",
    "    \n",
    "    init_parmas=parm_init(X)\n",
    "    parmas=gradient_descent(X,y,init_parmas,alpha,n_iter)\n",
    "    return parmas "
   ]
  },
  {
   "cell_type": "code",
   "execution_count": 33,
   "metadata": {},
   "outputs": [],
   "source": [
    "def predict(X_test,parmas):\n",
    "    \"\"\"\n",
    "    linear regression model tetsing on test data with optimized paramater\"\"\"\n",
    "    \n",
    "    y_pred=np.dot(X_test,parmas[\"W\"] + parmas[\"b\"])\n",
    "    return y_pred"
   ]
  },
  {
   "cell_type": "code",
   "execution_count": 23,
   "metadata": {},
   "outputs": [
    {
     "data": {
      "image/png": "[encoded data removed]",
      "text/plain": [
       "<Figure size 432x288 with 1 Axes>"
      ]
     },
     "metadata": {
      "needs_background": "light"
     },
     "output_type": "display_data"
    }
   ],
   "source": [
    "params = train(X_train, Y_train) # train model\n",
    "y_preds = predict(X_test, params) # inference\n",
    "plt.scatter(X_test, Y_test)\n",
    "plt.plot(X_test, y_preds, color=\"red\")\n",
    "plt.title(\"Predictions Dummy Regression Data\")\n",
    "plt.xlabel(\"X axis\")\n",
    "plt.ylabel(\"Y axis\")\n",
    "\n",
    "plt.show()"
   ]
  },
  {
   "cell_type": "code",
   "execution_count": 26,
   "metadata": {},
   "outputs": [],
   "source": [
    "lin_reg = LinearRegression()\n",
    "lin_reg.fit(X_train, Y_train)\n",
    "sklearn_y_preds = lin_reg.predict(X_test)"
   ]
  },
  {
   "cell_type": "code",
   "execution_count": 35,
   "metadata": {},
   "outputs": [
    {
     "name": "stdout",
     "output_type": "stream",
     "text": [
      "My implementation: 21.99286630786083\n"
     ]
    }
   ],
   "source": [
    "print(f\"My implementation: {np.sqrt(mean_squared_error(Y_test, y_preds))}\") "
   ]
  },
  {
   "cell_type": "code",
   "execution_count": 38,
   "metadata": {},
   "outputs": [
    {
     "name": "stdout",
     "output_type": "stream",
     "text": [
      " Sklearn implementation: 20.98610530754737\n"
     ]
    }
   ],
   "source": [
    "print(f\" Sklearn implementation: {np.sqrt(mean_squared_error(Y_test, sklearn_y_preds))}\")"
   ]
  },
  {
   "cell_type": "code",
   "execution_count": null,
   "metadata": {},
   "outputs": [],
   "source": []
  }
 ],
 "metadata": {
  "kernelspec": {
   "display_name": "Python 3",
   "language": "python",
   "name": "python3"
  },
  "language_info": {
   "codemirror_mode": {
    "name": "ipython",
    "version": 3
   },
   "file_extension": ".py",
   "mimetype": "text/x-python",
   "name": "python",
   "nbconvert_exporter": "python",
   "pygments_lexer": "ipython3",
   "version": "3.8.3"
  }
 },
 "nbformat": 4,
 "nbformat_minor": 4
}
